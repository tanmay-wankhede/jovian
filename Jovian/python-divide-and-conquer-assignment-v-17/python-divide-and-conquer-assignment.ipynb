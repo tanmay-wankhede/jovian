{
 "cells": [
  {
   "cell_type": "markdown",
   "id": "cd670ae0",
   "metadata": {},
   "source": [
    "# Assignment 3 - Divide-n-Conquer Algorithms in Python\n",
    "\n",
    "_This assignment is a part of the course [\"Data Structures and Algorithms in Python\"](https://jovian.ai/learn/data-structures-and-algorithms-in-python)._\n",
    "\n",
    "In this assignment, you will implement an efficient algorithm for polynomial multiplication.\n",
    "\n",
    "As you go through this notebook, you will find the symbol **???** in certain places. To complete this assignment, you must replace all the **???** with appropriate values, expressions or statements to ensure that the notebook runs properly end-to-end. \n",
    "\n",
    "**Guidelines**\n",
    "\n",
    "1. Make sure to run all the code cells, otherwise you may get errors like `NameError` for undefined variables.\n",
    "2. Do not change variable names, delete cells or disturb other existing code. It may cause problems during evaluation.\n",
    "3. In some cases, you may need to add some code cells or new statements before or after the line of code containing the **???**. \n",
    "4. Since you'll be using a temporary online service for code execution, save your work by running `jovian.commit` at regular intervals.\n",
    "5. Questions marked **(Optional)** will not be considered for evaluation, and can be skipped. They are for your learning.\n",
    "6. If you are stuck, you can ask for help on the [community forum] (TODO - add link). Post errors or ask for hints, but **please don't ask for OR share the full working answer code** on the forum.\n",
    "7. There are some tests included with this notebook to help you test your implementation. However, after submission your code will be tested with some hidden test cases. Make sure to test your code exhaustively to cover all edge cases.\n",
    "\n",
    "\n",
    "**Important Links**\n",
    "\n",
    "* Submit your work here: https://jovian.ai/learn/data-structures-and-algorithms-in-python/assignment/assignment-3-sorting-and-divide-conquer-practice\n",
    "* Ask questions and get help: https://jovian.ai/forum/c/data-structures-and-algorithms-in-python/assignment-3/89\n",
    "* Lesson 3 video for review: https://jovian.ai/learn/data-structures-and-algorithms-in-python/lesson/lesson-3-sorting-algorithms-and-divide-and-conquer\n",
    "* Lesson 3 notebook for review: https://jovian.ai/aakashns/python-sorting-divide-and-conquer\n"
   ]
  },
  {
   "cell_type": "markdown",
   "id": "3859a80d",
   "metadata": {},
   "source": [
    "### How to Run the Code and Save Your Work\n",
    "\n",
    "**Option 1: Running using free online resources (1-click, recommended)**: Click the **Run** button at the top of this page and select **Run on Binder**. You can also select \"Run on Colab\" or \"Run on Kaggle\", but you'll need to create an account on [Google Colab](https://colab.research.google.com) or [Kaggle](https://kaggle.com) to use these platforms.\n",
    "\n",
    "\n",
    "**Option 2: Running on your computer locally**: To run the code on your computer locally, you'll need to set up [Python](https://www.python.org) & [Conda](https://docs.conda.io/projects/conda/en/latest/user-guide/install/), download the notebook and install the required libraries. Click the **Run** button at the top of this page, select the **Run Locally** option, and follow the instructions.\n",
    "\n",
    "**Saving your work**: You can save a snapshot of the assignment to your [Jovian](https://jovian.ai) profile, so that you can access it later and continue your work. Keep saving your work by running `jovian.commit` from time to time."
   ]
  },
  {
   "cell_type": "code",
   "execution_count": 2,
   "id": "7ce09dfe",
   "metadata": {},
   "outputs": [],
   "source": [
    "project='python-divide-and-conquer-assignment'"
   ]
  },
  {
   "cell_type": "code",
   "execution_count": 1,
   "id": "6eb0fb3e",
   "metadata": {},
   "outputs": [],
   "source": [
    "!pip install jovian --upgrade --quiet"
   ]
  },
  {
   "cell_type": "code",
   "execution_count": 3,
   "id": "a1ff5673",
   "metadata": {},
   "outputs": [
    {
     "data": {
      "application/javascript": [
       "window.require && require([\"base/js/namespace\"],function(Jupyter){Jupyter.notebook.save_checkpoint()})"
      ],
      "text/plain": [
       "<IPython.core.display.Javascript object>"
      ]
     },
     "metadata": {},
     "output_type": "display_data"
    },
    {
     "name": "stdout",
     "output_type": "stream",
     "text": [
      "[jovian] Updating notebook \"tanmay-wankhede/python-divide-and-conquer-assignment\" on https://jovian.ai\u001b[0m\n",
      "[jovian] Committed successfully! https://jovian.ai/tanmay-wankhede/python-divide-and-conquer-assignment\u001b[0m\n"
     ]
    },
    {
     "data": {
      "text/plain": [
       "'https://jovian.ai/tanmay-wankhede/python-divide-and-conquer-assignment'"
      ]
     },
     "execution_count": 3,
     "metadata": {},
     "output_type": "execute_result"
    }
   ],
   "source": [
    "import jovian\n",
    "jovian.commit(project=project, privacy='secret', environment=None)"
   ]
  },
  {
   "cell_type": "markdown",
   "id": "080967a4",
   "metadata": {},
   "source": [
    "## Problem Statement - Polynomial Multiplication\n",
    "\n",
    "> Given two polynomials represented by two lists, write a function that efficiently multiplies given two polynomials. For example, the lists `[2, 0, 5, 7]` and `[3, 4, 2]` represent the polynomials $2 + 5x^2 + 7x^3$ and $3 + 4x + 2x^2$. \n",
    "> \n",
    "> Their product is \n",
    ">\n",
    "> $(2 \\times 3) + (2 \\times 4 + 0 \\times 3)x + (2 \\times 2 + 3 \\times 5 + 4 \\times 0)x^2 + (7 \\times 3 + 5 \\times 4 + 0 \\times 2)x^3 + (7 \\times 4 + 5 \\times 2)x^4 + (7 \\times 2)x^5$ i.e. \n",
    ">\n",
    ">$6 + 8x + 19x^2 + 41x^3 + 38x^4 + 14x^5$\n",
    "> \n",
    ">It can be represented by the list `[6, 8, 19, 41, 38, 14]`.\n"
   ]
  },
  {
   "cell_type": "markdown",
   "id": "f24d8cab",
   "metadata": {},
   "source": [
    "## The Method\n",
    "\n",
    "Here's the systematic strategy we'll apply for solving problems:\n",
    "\n",
    "1. State the problem clearly. Identify the input & output formats.\n",
    "2. Come up with some example inputs & outputs. Try to cover all edge cases.\n",
    "3. Come up with a correct solution for the problem. State it in plain English.\n",
    "4. Implement the solution and test it using example inputs. Fix bugs, if any.\n",
    "5. Analyze the algorithm's complexity and identify inefficiencies, if any.\n",
    "6. Apply the right technique to overcome the inefficiency. Repeat steps 3 to 6.\n",
    "\n",
    "This approach is explained in detail in [Lesson 1](https://jovian.ai/learn/data-structures-and-algorithms-in-python/lesson/lesson-1-binary-search-linked-lists-and-complexity) of the course. Let's apply this approach step-by-step."
   ]
  },
  {
   "cell_type": "markdown",
   "id": "701184b5",
   "metadata": {},
   "source": [
    "## Solution\n",
    "\n",
    "\n",
    "### 1. State the problem clearly. Identify the input & output formats.\n",
    "\n",
    "While this problem is stated clearly enough, it's always useful to try and express in your own words, in a way that makes it most clear for you. \n",
    "\n",
    "\n",
    "**Problem**\n",
    "\n",
    "> a function that will multiply 2 given polynomials.\n",
    "\n",
    "<br/>\n",
    "\n",
    "\n",
    "**Input**\n",
    "\n",
    "1. `[2, 4, 0, 0, 5]` and `[4, 9, 5, 4]`\n",
    "2. `[2, 4]` and `[2, 7, 5]`\n",
    " \n",
    "\n",
    "\n",
    "\n",
    "**Output**\n",
    "\n",
    "1. `[8 34 46 28 36 45 25 20]`\n",
    "2. `[4 22 38 20]`\n",
    "\n",
    "\n",
    "<br/>\n",
    "\n",
    "Based on the above, we can now create a signature of our function:"
   ]
  },
  {
   "cell_type": "code",
   "execution_count": 4,
   "id": "3ef551b9",
   "metadata": {},
   "outputs": [],
   "source": [
    "def multiply(poly1, poly2):\n",
    "    pass"
   ]
  },
  {
   "cell_type": "code",
   "execution_count": 5,
   "id": "03d10c4a",
   "metadata": {},
   "outputs": [],
   "source": [
    "import jovian"
   ]
  },
  {
   "cell_type": "code",
   "execution_count": null,
   "id": "c2b6b0f6",
   "metadata": {},
   "outputs": [],
   "source": [
    "jovian.commit()"
   ]
  },
  {
   "cell_type": "markdown",
   "id": "4665b165",
   "metadata": {},
   "source": [
    "### 2. Come up with some example inputs & outputs. Try to cover all edge cases.\n",
    "\n",
    "Our function should be able to handle any set of valid inputs we pass into it. List a few scenarios here:\n",
    "\n",
    "1. One list is empty (result would be 0s)\n",
    "2. One list is of 1s (result would be Other List).\n",
    "3. Both lists are same.\n",
    "4. Both lists are of same/different size (a really long list.).\n",
    "5. A list containing just one element. (add more if required)\n",
    "\n",
    "(add more if required)\n",
    "\n",
    "\n",
    "Create a test case of each of the above scenarios. We'll express our test cases as dictionaries, to test them easily. Each dictionary will contain 2 keys: `input` (a dictionary itself containing one key for each argument to the function and `output` (the expected result from the function). "
   ]
  },
  {
   "cell_type": "code",
   "execution_count": 6,
   "id": "687314cb",
   "metadata": {},
   "outputs": [],
   "source": [
    "test0 = {\n",
    "    'input': {\n",
    "        'poly1': [2, 0, 5, 7],\n",
    "        'poly2': [3, 4, 2]\n",
    "    },\n",
    "    'output': [6, 8, 19, 41, 38, 14]\n",
    "}"
   ]
  },
  {
   "cell_type": "code",
   "execution_count": 7,
   "id": "5c307e6d",
   "metadata": {},
   "outputs": [],
   "source": [
    "test1 = {\n",
    "    'input': {\n",
    "        'poly1': [2, 4, 0, 0, 5],\n",
    "        'poly2': [4, 9, 5, 4]\n",
    "    },\n",
    "    'output': [8, 34, 46, 28, 36, 45, 25, 20]\n",
    "}"
   ]
  },
  {
   "cell_type": "code",
   "execution_count": 8,
   "id": "427aaa63",
   "metadata": {},
   "outputs": [],
   "source": [
    "test2 = {\n",
    "    'input': {\n",
    "        'poly1': [2, 4],\n",
    "        'poly2': [2, 7, 5]\n",
    "    },\n",
    "    'output': [4, 22, 38, 20]\n",
    "}"
   ]
  },
  {
   "cell_type": "code",
   "execution_count": 9,
   "id": "e587ff28",
   "metadata": {},
   "outputs": [],
   "source": [
    "test3 = {\n",
    "    'input': {\n",
    "        'poly1': [1, 1, 1],\n",
    "        'poly2': [2, 7, 5]\n",
    "    },\n",
    "    'output': [2, 9, 14, 12, 5]\n",
    "}"
   ]
  },
  {
   "cell_type": "code",
   "execution_count": 10,
   "id": "4b03f883",
   "metadata": {},
   "outputs": [],
   "source": [
    "test4 = {\n",
    "    'input': {\n",
    "        'poly1': [],\n",
    "        'poly2': [2, 7, 4]\n",
    "    },\n",
    "    'output': []\n",
    "}"
   ]
  },
  {
   "cell_type": "code",
   "execution_count": 11,
   "id": "fd4bb650",
   "metadata": {},
   "outputs": [],
   "source": [
    "test5 = {\n",
    "    'input': {\n",
    "        'poly1': [0, 1],\n",
    "        'poly2': [2, 6, -5, 3, 4]\n",
    "    },\n",
    "    'output': [0, 2, 6, -5, 3, 4]\n",
    "}"
   ]
  },
  {
   "cell_type": "code",
   "execution_count": 12,
   "id": "15cb90c6",
   "metadata": {},
   "outputs": [],
   "source": [
    "test6 = {\n",
    "    'input': {\n",
    "        'poly1': [1],\n",
    "        'poly2': [2, 6, 5, 3, 4]\n",
    "    },\n",
    "    'output': [2, 6, 5, 3, 4]\n",
    "}"
   ]
  },
  {
   "cell_type": "code",
   "execution_count": 13,
   "id": "4cbdcf36",
   "metadata": {},
   "outputs": [],
   "source": [
    "test7 = {\n",
    "    'input': {\n",
    "        'poly1': [],\n",
    "        'poly2': [1]\n",
    "    },\n",
    "    'output': []\n",
    "}"
   ]
  },
  {
   "cell_type": "code",
   "execution_count": 14,
   "id": "43207980",
   "metadata": {},
   "outputs": [],
   "source": [
    "test8 = {\n",
    "    'input': {\n",
    "        'poly1': [2, 5, 3, 1, -1],\n",
    "        'poly2': [1, 2, 2, 3, 6]\n",
    "    },\n",
    "    'output': [2, 9, 17, 23, 34, 39, 19, 3, -6]\n",
    "}"
   ]
  },
  {
   "cell_type": "code",
   "execution_count": null,
   "id": "58db0a21",
   "metadata": {},
   "outputs": [],
   "source": [
    "# add more if required"
   ]
  },
  {
   "cell_type": "markdown",
   "id": "a7b69d66",
   "metadata": {},
   "source": [
    "Let's store all the test cases in a list, for easier automated testing."
   ]
  },
  {
   "cell_type": "code",
   "execution_count": 15,
   "id": "745abd83",
   "metadata": {},
   "outputs": [],
   "source": [
    "tests = [test0, test1, test2, test3, test4, test5, test6, test7, test8]"
   ]
  },
  {
   "cell_type": "code",
   "execution_count": 16,
   "id": "f5a65c14",
   "metadata": {},
   "outputs": [],
   "source": [
    "import jovian"
   ]
  },
  {
   "cell_type": "code",
   "execution_count": 17,
   "id": "6a03fc16",
   "metadata": {},
   "outputs": [
    {
     "data": {
      "application/javascript": [
       "window.require && require([\"base/js/namespace\"],function(Jupyter){Jupyter.notebook.save_checkpoint()})"
      ],
      "text/plain": [
       "<IPython.core.display.Javascript object>"
      ]
     },
     "metadata": {},
     "output_type": "display_data"
    },
    {
     "name": "stdout",
     "output_type": "stream",
     "text": [
      "[jovian] Updating notebook \"tanmay-wankhede/python-divide-and-conquer-assignment\" on https://jovian.ai\u001b[0m\n",
      "[jovian] Committed successfully! https://jovian.ai/tanmay-wankhede/python-divide-and-conquer-assignment\u001b[0m\n"
     ]
    },
    {
     "data": {
      "text/plain": [
       "'https://jovian.ai/tanmay-wankhede/python-divide-and-conquer-assignment'"
      ]
     },
     "execution_count": 17,
     "metadata": {},
     "output_type": "execute_result"
    }
   ],
   "source": [
    "jovian.commit()"
   ]
  },
  {
   "cell_type": "markdown",
   "id": "34dd3b93",
   "metadata": {},
   "source": [
    "### 3. Come up with a correct solution for the problem. State it in plain English.\n",
    "\n",
    "Our first goal should always be to come up with a _correct_ solution to the problem, which may not necessarily be the most _efficient_ solution. \n",
    "\n",
    "Here's the simplest solution: If you have lists `poly1` and `poly2` representing polynomials of length $m$ and $n$ respectively, the highest degree of the exponents are $m-1$ and $n-1$ respectively. Their product has the degree $(m - 1) + (n - 1)$ i.e $m + n - 2$. The list representing the product has the length $m + n - 1$. So, we can create a list `result` of length $m + n - 1$, and set \n",
    "\n",
    "`result[k]` = Sum of all the pairs `poly1[i] * poly2[j]` where `i+j = k`\n",
    "\n",
    "Example:\n",
    "\n",
    "$(2 + 5x^2 + 7x^3) \\times (3 + 4x + 2x^2)$\n",
    "\n",
    "$= (2 \\times 3) + (2 \\times 4 + 0 \\times 3)x + (2 \\times 2 + 3 \\times 5 + 4 \\times 0)x^2 + (7 \\times 3 + 5 \\times 4 + 0 \\times 2)x^3 + (7 \\times 4 + 5 \\times 2)x^4 + (7 \\times 2)x^5$\n",
    "\n",
    "$= 6 + 8x + 19x^2 + 41x^3 + 38x^4 + 14x^5$\n",
    "\n",
    "\n",
    "\n",
    "\n",
    "\n",
    "\n",
    "Explain this solution in your own words below:\n",
    "\n",
    "1. Create an emply list (result) with len(poly1) + len(poly2) - 1.\n",
    "2. Set the first element result[0] to poly1[0]*poly2[0] as this would be the value with multiplier \n",
    "3. Second element result[1] would be poly1[1]*poly2[0] + poly1[0]*poly2[1], as these would have multiplier.\n",
    "4. Effectively, index could be read as the degree of the exponents and the value at the index as multiplier.\n",
    "5. i.e. result[k] = Sum of all the pairs poly1[i] * poly2[j] where i+j = k (add more steps if required)\n",
    "\n",
    "(add more steps if required)\n",
    "\n",
    "\n",
    "Let's save and upload our work before continuing.\n",
    "\n"
   ]
  },
  {
   "cell_type": "code",
   "execution_count": 18,
   "id": "7868f648",
   "metadata": {},
   "outputs": [],
   "source": [
    "import jovian"
   ]
  },
  {
   "cell_type": "code",
   "execution_count": 19,
   "id": "68279f62",
   "metadata": {},
   "outputs": [
    {
     "data": {
      "application/javascript": [
       "window.require && require([\"base/js/namespace\"],function(Jupyter){Jupyter.notebook.save_checkpoint()})"
      ],
      "text/plain": [
       "<IPython.core.display.Javascript object>"
      ]
     },
     "metadata": {},
     "output_type": "display_data"
    },
    {
     "name": "stdout",
     "output_type": "stream",
     "text": [
      "[jovian] Updating notebook \"tanmay-wankhede/python-divide-and-conquer-assignment\" on https://jovian.ai\u001b[0m\n",
      "[jovian] Committed successfully! https://jovian.ai/tanmay-wankhede/python-divide-and-conquer-assignment\u001b[0m\n"
     ]
    },
    {
     "data": {
      "text/plain": [
       "'https://jovian.ai/tanmay-wankhede/python-divide-and-conquer-assignment'"
      ]
     },
     "execution_count": 19,
     "metadata": {},
     "output_type": "execute_result"
    }
   ],
   "source": [
    "jovian.commit()"
   ]
  },
  {
   "cell_type": "markdown",
   "id": "179042b3",
   "metadata": {},
   "source": [
    "###  4. Implement the solution and test it using example inputs. Fix bugs, if any.\n",
    "\n",
    "Implement the solution"
   ]
  },
  {
   "cell_type": "code",
   "execution_count": 20,
   "id": "10618c8f",
   "metadata": {},
   "outputs": [],
   "source": [
    "def multiply_basic(poly1, poly2):\n",
    "    m = len(poly1)\n",
    "    n = len(poly2)\n",
    "    \n",
    "    if m>0 and n>0:\n",
    "      result = [0]*(m + n - 1) \n",
    "      for i in range(m):\n",
    "        for j in range(n):\n",
    "          result[i+j] += poly1[i] * poly2[j]           \n",
    "    \n",
    "    elif m==0 or n==0:\n",
    "        result = [] \n",
    "    \n",
    "    elif n==0:\n",
    "        result = []\n",
    "    \n",
    "    return result"
   ]
  },
  {
   "cell_type": "markdown",
   "id": "97a20436",
   "metadata": {},
   "source": [
    "Test your solution using the test cases you've defined above."
   ]
  },
  {
   "cell_type": "code",
   "execution_count": 21,
   "id": "e39529d0",
   "metadata": {},
   "outputs": [
    {
     "name": "stdout",
     "output_type": "stream",
     "text": [
      "Input-1: [2, 4, 0, 0, 5]\n",
      "Input-2: [4, 9, 5, 4]\n",
      "Expected output: [8, 34, 46, 28, 36, 45, 25, 20]\n",
      "Actual output: [8, 34, 46, 28, 36, 45, 25, 20]\n",
      "Match: True\n"
     ]
    }
   ],
   "source": [
    "print('Input-1:', test1['input']['poly1'])\n",
    "print('Input-2:', test1['input']['poly2'])\n",
    "print('Expected output:', test1['output'])\n",
    "result1 = multiply_basic(test1['input']['poly1'], test1['input']['poly2'])\n",
    "print('Actual output:', result1)\n",
    "print('Match:', result1 == test1['output'])"
   ]
  },
  {
   "cell_type": "code",
   "execution_count": 22,
   "id": "cc9f1284",
   "metadata": {},
   "outputs": [],
   "source": [
    "from jovian.pythondsa import evaluate_test_cases"
   ]
  },
  {
   "cell_type": "code",
   "execution_count": 23,
   "id": "a874c1a4",
   "metadata": {},
   "outputs": [
    {
     "name": "stdout",
     "output_type": "stream",
     "text": [
      "\n",
      "\u001b[1mTEST CASE #0\u001b[0m\n",
      "\n",
      "Input:\n",
      "{'poly1': [2, 0, 5, 7], 'poly2': [3, 4, 2]}\n",
      "\n",
      "Expected Output:\n",
      "[6, 8, 19, 41, 38, 14]\n",
      "\n",
      "\n",
      "Actual Output:\n",
      "[6, 8, 19, 41, 38, 14]\n",
      "\n",
      "Execution Time:\n",
      "0.011 ms\n",
      "\n",
      "Test Result:\n",
      "\u001b[92mPASSED\u001b[0m\n",
      "\n",
      "\n",
      "\u001b[1mTEST CASE #1\u001b[0m\n",
      "\n",
      "Input:\n",
      "{'poly1': [2, 4, 0, 0, 5], 'poly2': [4, 9, 5, 4]}\n",
      "\n",
      "Expected Output:\n",
      "[8, 34, 46, 28, 36, 45, 25, 20]\n",
      "\n",
      "\n",
      "Actual Output:\n",
      "[8, 34, 46, 28, 36, 45, 25, 20]\n",
      "\n",
      "Execution Time:\n",
      "0.012 ms\n",
      "\n",
      "Test Result:\n",
      "\u001b[92mPASSED\u001b[0m\n",
      "\n",
      "\n",
      "\u001b[1mTEST CASE #2\u001b[0m\n",
      "\n",
      "Input:\n",
      "{'poly1': [2, 4], 'poly2': [2, 7, 5]}\n",
      "\n",
      "Expected Output:\n",
      "[4, 22, 38, 20]\n",
      "\n",
      "\n",
      "Actual Output:\n",
      "[4, 22, 38, 20]\n",
      "\n",
      "Execution Time:\n",
      "0.006 ms\n",
      "\n",
      "Test Result:\n",
      "\u001b[92mPASSED\u001b[0m\n",
      "\n",
      "\n",
      "\u001b[1mTEST CASE #3\u001b[0m\n",
      "\n",
      "Input:\n",
      "{'poly1': [1, 1, 1], 'poly2': [2, 7, 5]}\n",
      "\n",
      "Expected Output:\n",
      "[2, 9, 14, 12, 5]\n",
      "\n",
      "\n",
      "Actual Output:\n",
      "[2, 9, 14, 12, 5]\n",
      "\n",
      "Execution Time:\n",
      "0.007 ms\n",
      "\n",
      "Test Result:\n",
      "\u001b[92mPASSED\u001b[0m\n",
      "\n",
      "\n",
      "\u001b[1mTEST CASE #4\u001b[0m\n",
      "\n",
      "Input:\n",
      "{'poly1': [], 'poly2': [2, 7, 4]}\n",
      "\n",
      "Expected Output:\n",
      "[]\n",
      "\n",
      "\n",
      "Actual Output:\n",
      "[]\n",
      "\n",
      "Execution Time:\n",
      "0.002 ms\n",
      "\n",
      "Test Result:\n",
      "\u001b[92mPASSED\u001b[0m\n",
      "\n",
      "\n",
      "\u001b[1mTEST CASE #5\u001b[0m\n",
      "\n",
      "Input:\n",
      "{'poly1': [0, 1], 'poly2': [2, 6, -5, 3, 4]}\n",
      "\n",
      "Expected Output:\n",
      "[0, 2, 6, -5, 3, 4]\n",
      "\n",
      "\n",
      "Actual Output:\n",
      "[0, 2, 6, -5, 3, 4]\n",
      "\n",
      "Execution Time:\n",
      "0.007 ms\n",
      "\n",
      "Test Result:\n",
      "\u001b[92mPASSED\u001b[0m\n",
      "\n",
      "\n",
      "\u001b[1mTEST CASE #6\u001b[0m\n",
      "\n",
      "Input:\n",
      "{'poly1': [1], 'poly2': [2, 6, 5, 3, 4]}\n",
      "\n",
      "Expected Output:\n",
      "[2, 6, 5, 3, 4]\n",
      "\n",
      "\n",
      "Actual Output:\n",
      "[2, 6, 5, 3, 4]\n",
      "\n",
      "Execution Time:\n",
      "0.005 ms\n",
      "\n",
      "Test Result:\n",
      "\u001b[92mPASSED\u001b[0m\n",
      "\n",
      "\n",
      "\u001b[1mTEST CASE #7\u001b[0m\n",
      "\n",
      "Input:\n",
      "{'poly1': [], 'poly2': [1]}\n",
      "\n",
      "Expected Output:\n",
      "[]\n",
      "\n",
      "\n",
      "Actual Output:\n",
      "[]\n",
      "\n",
      "Execution Time:\n",
      "0.002 ms\n",
      "\n",
      "Test Result:\n",
      "\u001b[92mPASSED\u001b[0m\n",
      "\n",
      "\n",
      "\u001b[1mTEST CASE #8\u001b[0m\n",
      "\n",
      "Input:\n",
      "{'poly1': [2, 5, 3, 1, -1], 'poly2': [1, 2, 2, 3, 6]}\n",
      "\n",
      "Expected Output:\n",
      "[2, 9, 17, 23, 34, 39, 19, 3, -6]\n",
      "\n",
      "\n",
      "Actual Output:\n",
      "[2, 9, 17, 23, 34, 39, 19, 3, -6]\n",
      "\n",
      "Execution Time:\n",
      "0.012 ms\n",
      "\n",
      "Test Result:\n",
      "\u001b[92mPASSED\u001b[0m\n",
      "\n",
      "\n",
      "\u001b[1mSUMMARY\u001b[0m\n",
      "\n",
      "TOTAL: 9, \u001b[92mPASSED\u001b[0m: 9, \u001b[91mFAILED\u001b[0m: 0\n"
     ]
    }
   ],
   "source": [
    "results = evaluate_test_cases(multiply_basic, tests)\n"
   ]
  },
  {
   "cell_type": "code",
   "execution_count": null,
   "id": "adfcdb8e",
   "metadata": {},
   "outputs": [],
   "source": []
  },
  {
   "cell_type": "code",
   "execution_count": null,
   "id": "d7e10a8c",
   "metadata": {},
   "outputs": [],
   "source": []
  },
  {
   "cell_type": "code",
   "execution_count": 24,
   "id": "6502a17c",
   "metadata": {},
   "outputs": [],
   "source": [
    "import jovian"
   ]
  },
  {
   "cell_type": "code",
   "execution_count": 25,
   "id": "1085e62c",
   "metadata": {},
   "outputs": [
    {
     "data": {
      "application/javascript": [
       "window.require && require([\"base/js/namespace\"],function(Jupyter){Jupyter.notebook.save_checkpoint()})"
      ],
      "text/plain": [
       "<IPython.core.display.Javascript object>"
      ]
     },
     "metadata": {},
     "output_type": "display_data"
    },
    {
     "name": "stdout",
     "output_type": "stream",
     "text": [
      "[jovian] Updating notebook \"tanmay-wankhede/python-divide-and-conquer-assignment\" on https://jovian.ai\u001b[0m\n",
      "[jovian] Committed successfully! https://jovian.ai/tanmay-wankhede/python-divide-and-conquer-assignment\u001b[0m\n"
     ]
    },
    {
     "data": {
      "text/plain": [
       "'https://jovian.ai/tanmay-wankhede/python-divide-and-conquer-assignment'"
      ]
     },
     "execution_count": 25,
     "metadata": {},
     "output_type": "execute_result"
    }
   ],
   "source": [
    "jovian.commit()"
   ]
  },
  {
   "cell_type": "markdown",
   "id": "6dc61634",
   "metadata": {},
   "source": [
    "### 5. Analyze the algorithm's complexity and identify inefficiencies, if any.\n",
    "\n",
    "Can you analyze the time and space complexity of this algorithm?"
   ]
  },
  {
   "cell_type": "code",
   "execution_count": 26,
   "id": "ddcc11f6",
   "metadata": {},
   "outputs": [],
   "source": [
    "multiply_basic_time_complexity = 'O(n^2)' # Time complexity is m+n-1, as we are calculating items for each result index"
   ]
  },
  {
   "cell_type": "code",
   "execution_count": 27,
   "id": "990d4510",
   "metadata": {},
   "outputs": [],
   "source": [
    "multiply_basic_space_complexity = 'O(N*N)' \n",
    "# For calculating the result[i], we are storing all multiplication results, til we find i+j=k. Hence sm*n!"
   ]
  },
  {
   "cell_type": "code",
   "execution_count": null,
   "id": "48e79aeb",
   "metadata": {},
   "outputs": [],
   "source": []
  },
  {
   "cell_type": "code",
   "execution_count": 28,
   "id": "140f5a20",
   "metadata": {},
   "outputs": [],
   "source": [
    "import jovian"
   ]
  },
  {
   "cell_type": "code",
   "execution_count": 29,
   "id": "7a14f0b3",
   "metadata": {},
   "outputs": [
    {
     "data": {
      "application/javascript": [
       "window.require && require([\"base/js/namespace\"],function(Jupyter){Jupyter.notebook.save_checkpoint()})"
      ],
      "text/plain": [
       "<IPython.core.display.Javascript object>"
      ]
     },
     "metadata": {},
     "output_type": "display_data"
    },
    {
     "name": "stdout",
     "output_type": "stream",
     "text": [
      "[jovian] Updating notebook \"tanmay-wankhede/python-divide-and-conquer-assignment\" on https://jovian.ai\u001b[0m\n",
      "[jovian] Committed successfully! https://jovian.ai/tanmay-wankhede/python-divide-and-conquer-assignment\u001b[0m\n"
     ]
    },
    {
     "data": {
      "text/plain": [
       "'https://jovian.ai/tanmay-wankhede/python-divide-and-conquer-assignment'"
      ]
     },
     "execution_count": 29,
     "metadata": {},
     "output_type": "execute_result"
    }
   ],
   "source": [
    "jovian.commit()"
   ]
  },
  {
   "cell_type": "markdown",
   "id": "1d979a1b",
   "metadata": {},
   "source": [
    "### 6. Apply the right technique to overcome the inefficiency. Repeat steps 3 to 6.\n",
    "\n",
    "We can apply the divide and conquer technique to solve this problem more efficiently. Given two polynomials `A` and `B`, we can express each of them as a sum of two polynomials as follows:\n",
    "\n",
    "<img src=\"https://i.imgur.com/FjKQF5h.png\" width=\"480\">\n",
    "\n",
    "We need to compute the terms `A0 * B0`, `A1 * B0 + A0 * B1` and `A1 * B1`. This can obviously be done using 4 multiplications, but here's a way of doing it with just three multiplications:\n",
    "\n",
    "<img src=\"https://i.imgur.com/G3vD1GX.png\" width=\"480\">\n",
    "\n",
    "\n",
    "Each of the products can themselves be computed recursively. For a more detailed explanation of this approach see http://www.cse.ust.hk/~dekai/271/notes/L03/L03.pdf .\n",
    "\n",
    "\n",
    "Need help? Discuss and ask questions on the forum: https://jovian.ai/forum/c/data-structures-and-algorithms-in-python/assignment-3/89\n"
   ]
  },
  {
   "cell_type": "markdown",
   "id": "6af0f802",
   "metadata": {},
   "source": [
    "### 7. Come up with a correct solution for the problem. State it in plain English.\n",
    "\n",
    "Explain the approach described above in your own words below:\n",
    "\n",
    "1. Divide the polynomials A & B in smaller polynomials Such as  𝐴(𝑥)  as  𝐴0(𝑥)  and  𝐴1(𝑥) (say half)\n",
    "2. The original problem of size n is divided into 4 problems of input size n/2.\n",
    "3. Solve the four subproblems, by recursively calling the algorithm 4 times.\n",
    "\n",
    "(add more steps if required)\n",
    "\n",
    "\n",
    "Let's save and upload our work before continuing."
   ]
  },
  {
   "cell_type": "code",
   "execution_count": 30,
   "id": "8e4a980e",
   "metadata": {},
   "outputs": [],
   "source": [
    "import jovian"
   ]
  },
  {
   "cell_type": "code",
   "execution_count": 31,
   "id": "0696e1ea",
   "metadata": {},
   "outputs": [
    {
     "data": {
      "application/javascript": [
       "window.require && require([\"base/js/namespace\"],function(Jupyter){Jupyter.notebook.save_checkpoint()})"
      ],
      "text/plain": [
       "<IPython.core.display.Javascript object>"
      ]
     },
     "metadata": {},
     "output_type": "display_data"
    },
    {
     "name": "stdout",
     "output_type": "stream",
     "text": [
      "[jovian] Updating notebook \"tanmay-wankhede/python-divide-and-conquer-assignment\" on https://jovian.ai\u001b[0m\n",
      "[jovian] Committed successfully! https://jovian.ai/tanmay-wankhede/python-divide-and-conquer-assignment\u001b[0m\n"
     ]
    },
    {
     "data": {
      "text/plain": [
       "'https://jovian.ai/tanmay-wankhede/python-divide-and-conquer-assignment'"
      ]
     },
     "execution_count": 31,
     "metadata": {},
     "output_type": "execute_result"
    }
   ],
   "source": [
    "jovian.commit()"
   ]
  },
  {
   "cell_type": "markdown",
   "id": "ccb4a531",
   "metadata": {},
   "source": [
    "### 8. Implement the solution and test it using example inputs. Fix bugs, if any.\n",
    "\n",
    "We are now ready to implement the solution. You may find the following functions `add`, `split` and `increase_exponent` useful.\n"
   ]
  },
  {
   "cell_type": "code",
   "execution_count": 32,
   "id": "21805132",
   "metadata": {},
   "outputs": [],
   "source": [
    "def add(poly1, poly2):\n",
    "    \"\"\"Add two polynomials\"\"\"\n",
    "    result = [0] * max(len(poly1), len(poly2))\n",
    "    for i in range(len(result)):\n",
    "        if i < len(poly1):\n",
    "            result[i] += poly1[i]\n",
    "        if i < len(poly2):\n",
    "            result[i] += poly2[i]\n",
    "    return result"
   ]
  },
  {
   "cell_type": "code",
   "execution_count": 33,
   "id": "8d28d5e5",
   "metadata": {},
   "outputs": [
    {
     "data": {
      "text/plain": [
       "[1, 6, 6, 4]"
      ]
     },
     "execution_count": 33,
     "metadata": {},
     "output_type": "execute_result"
    }
   ],
   "source": [
    "add([1, 2, 3, 4], [0, 4, 3])"
   ]
  },
  {
   "cell_type": "code",
   "execution_count": 34,
   "id": "54f27a43",
   "metadata": {},
   "outputs": [],
   "source": [
    "def split(poly1, poly2):\n",
    "    \"\"\"Split each polynomial into two smaller polynomials\"\"\"\n",
    "    mid = max(len(poly1), len(poly2)) // 2\n",
    "    return  (poly1[:mid], poly1[mid:]), (poly2[:mid], poly2[mid:])"
   ]
  },
  {
   "cell_type": "code",
   "execution_count": 35,
   "id": "b7bf8756",
   "metadata": {},
   "outputs": [
    {
     "data": {
      "text/plain": [
       "(([1, 2, 3], [4]), ([0, 4, 3], [6, 7, 8, 2]))"
      ]
     },
     "execution_count": 35,
     "metadata": {},
     "output_type": "execute_result"
    }
   ],
   "source": [
    "split([1, 2, 3, 4], [0, 4, 3, 6, 7, 8, 2])"
   ]
  },
  {
   "cell_type": "code",
   "execution_count": 36,
   "id": "6da3cc6d",
   "metadata": {},
   "outputs": [],
   "source": [
    "def increase_exponent(poly, n):\n",
    "    \"\"\"Multiply poly1 by x^n\"\"\"\n",
    "    return [0] * n + poly"
   ]
  },
  {
   "cell_type": "code",
   "execution_count": 37,
   "id": "644136c1",
   "metadata": {},
   "outputs": [
    {
     "data": {
      "text/plain": [
       "[0, 0, 0, 1, 2, 3, 4]"
      ]
     },
     "execution_count": 37,
     "metadata": {},
     "output_type": "execute_result"
    }
   ],
   "source": [
    "increase_exponent([1, 2, 3, 4], 3)"
   ]
  },
  {
   "cell_type": "markdown",
   "id": "79657e2b",
   "metadata": {},
   "source": [
    "Implement the optimized multiplication algorithm below. You may use the some or all of the helper functions defined above."
   ]
  },
  {
   "cell_type": "code",
   "execution_count": 38,
   "id": "9bade994",
   "metadata": {},
   "outputs": [],
   "source": [
    "# What this does is takes the first element of poly1, multiplies all elements of poly2\n",
    "\n",
    "\n",
    "# Standardizes the polynomial (Gets rid of trailing 0s)\n",
    "def standardize(poly):\n",
    "    poly = list(poly) # make a copy\n",
    "    if poly[len(poly)-1] == 0: # Check if the last element in the list is 0\n",
    "        poly.pop() #If last element is zero, remove from the list\n",
    "    return poly\n",
    "\n",
    "# Finds if the polynomial is 0\n",
    "def isZeroPoly(poly):\n",
    "    if poly == []: # Check if poly is blank [] or [0]<= standardize would remove the zero and return []\n",
    "        return True\n",
    "    else:\n",
    "        return False\n",
    "\n",
    "# Scales the polynomial by the scale variable ((3,[1,2,3]) => [3,6,9])\n",
    "def scalePoly(scale,poly):\n",
    "    poly = list(poly)\n",
    "    for x in range(0,len(poly)): # For final assembly of resulting poly\n",
    "        poly[x] = (poly[x] * scale)\n",
    "    poly = standardize(poly)\n",
    "    return poly\n",
    "\n",
    "# Gives the constant in the polynomial ([2,3,4] => [2])\n",
    "def constCoef(poly):\n",
    "    constant = poly[0]\n",
    "    return constant\n",
    "\n",
    "# Shifts the polynomial left ([2,3,4] => [0,2,3,4])\n",
    "def shiftLeft(poly):\n",
    "    newpoly = []\n",
    "    newpoly.append(0)\n",
    "    for x in range(0,len(poly)): # Increase exponent\n",
    "        newpoly.append(poly[x])\n",
    "    return newpoly\n",
    "\n",
    "# Shifts the polynomial right ([2,3,4] => [3,4])\n",
    "def shiftRight(poly):\n",
    "    #poly.remove(poly[0])\n",
    "    return poly[1:]\n",
    "\n",
    "def multiply_optimized(poly1, poly2):\n",
    "    # print (poly1, poly2)\n",
    "    if isZeroPoly(poly1):\n",
    "        return []\n",
    "    else:\n",
    "        return add(\n",
    "            multiply_optimized(shiftRight(poly1), shiftLeft(poly2)),\n",
    "            scalePoly(constCoef(poly1), poly2)\n",
    "        )\n",
    "        "
   ]
  },
  {
   "cell_type": "code",
   "execution_count": 39,
   "id": "5ff3c24b",
   "metadata": {},
   "outputs": [
    {
     "data": {
      "text/plain": [
       "[0, 4, 11, 24, 44, 52, 63, 56, 38, 8]"
      ]
     },
     "execution_count": 39,
     "metadata": {},
     "output_type": "execute_result"
    }
   ],
   "source": [
    "multiply_optimized([1, 2, 3, 4], [0, 4, 3, 6, 7, 8, 2])"
   ]
  },
  {
   "cell_type": "code",
   "execution_count": null,
   "id": "28cf29c5",
   "metadata": {},
   "outputs": [],
   "source": []
  },
  {
   "cell_type": "code",
   "execution_count": 40,
   "id": "8db36606",
   "metadata": {},
   "outputs": [
    {
     "name": "stdout",
     "output_type": "stream",
     "text": [
      "\n",
      "\u001b[1mTEST CASE #0\u001b[0m\n",
      "\n",
      "Input:\n",
      "{'poly1': [2, 0, 5, 7], 'poly2': [3, 4, 2]}\n",
      "\n",
      "Expected Output:\n",
      "[6, 8, 19, 41, 38, 14]\n",
      "\n",
      "\n",
      "Actual Output:\n",
      "[6, 8, 19, 41, 38, 14]\n",
      "\n",
      "Execution Time:\n",
      "0.039 ms\n",
      "\n",
      "Test Result:\n",
      "\u001b[92mPASSED\u001b[0m\n",
      "\n",
      "\n",
      "\u001b[1mTEST CASE #1\u001b[0m\n",
      "\n",
      "Input:\n",
      "{'poly1': [2, 4, 0, 0, 5], 'poly2': [4, 9, 5, 4]}\n",
      "\n",
      "Expected Output:\n",
      "[8, 34, 46, 28, 36, 45, 25, 20]\n",
      "\n",
      "\n",
      "Actual Output:\n",
      "[8, 34, 46, 28, 36, 45, 25, 20]\n",
      "\n",
      "Execution Time:\n",
      "0.048 ms\n",
      "\n",
      "Test Result:\n",
      "\u001b[92mPASSED\u001b[0m\n",
      "\n",
      "\n",
      "\u001b[1mTEST CASE #2\u001b[0m\n",
      "\n",
      "Input:\n",
      "{'poly1': [2, 4], 'poly2': [2, 7, 5]}\n",
      "\n",
      "Expected Output:\n",
      "[4, 22, 38, 20]\n",
      "\n",
      "\n",
      "Actual Output:\n",
      "[4, 22, 38, 20]\n",
      "\n",
      "Execution Time:\n",
      "0.018 ms\n",
      "\n",
      "Test Result:\n",
      "\u001b[92mPASSED\u001b[0m\n",
      "\n",
      "\n",
      "\u001b[1mTEST CASE #3\u001b[0m\n",
      "\n",
      "Input:\n",
      "{'poly1': [1, 1, 1], 'poly2': [2, 7, 5]}\n",
      "\n",
      "Expected Output:\n",
      "[2, 9, 14, 12, 5]\n",
      "\n",
      "\n",
      "Actual Output:\n",
      "[2, 9, 14, 12, 5]\n",
      "\n",
      "Execution Time:\n",
      "0.026 ms\n",
      "\n",
      "Test Result:\n",
      "\u001b[92mPASSED\u001b[0m\n",
      "\n",
      "\n",
      "\u001b[1mTEST CASE #4\u001b[0m\n",
      "\n",
      "Input:\n",
      "{'poly1': [], 'poly2': [2, 7, 4]}\n",
      "\n",
      "Expected Output:\n",
      "[]\n",
      "\n",
      "\n",
      "Actual Output:\n",
      "[]\n",
      "\n",
      "Execution Time:\n",
      "0.002 ms\n",
      "\n",
      "Test Result:\n",
      "\u001b[92mPASSED\u001b[0m\n",
      "\n",
      "\n",
      "\u001b[1mTEST CASE #5\u001b[0m\n",
      "\n",
      "Input:\n",
      "{'poly1': [0, 1], 'poly2': [2, 6, -5, 3, 4]}\n",
      "\n",
      "Expected Output:\n",
      "[0, 2, 6, -5, 3, 4]\n",
      "\n",
      "\n",
      "Actual Output:\n",
      "[0, 2, 6, -5, 3, 4]\n",
      "\n",
      "Execution Time:\n",
      "0.028 ms\n",
      "\n",
      "Test Result:\n",
      "\u001b[92mPASSED\u001b[0m\n",
      "\n",
      "\n",
      "\u001b[1mTEST CASE #6\u001b[0m\n",
      "\n",
      "Input:\n",
      "{'poly1': [1], 'poly2': [2, 6, 5, 3, 4]}\n",
      "\n",
      "Expected Output:\n",
      "[2, 6, 5, 3, 4]\n",
      "\n",
      "\n",
      "Actual Output:\n",
      "[2, 6, 5, 3, 4]\n",
      "\n",
      "Execution Time:\n",
      "0.013 ms\n",
      "\n",
      "Test Result:\n",
      "\u001b[92mPASSED\u001b[0m\n",
      "\n",
      "\n",
      "\u001b[1mTEST CASE #7\u001b[0m\n",
      "\n",
      "Input:\n",
      "{'poly1': [], 'poly2': [1]}\n",
      "\n",
      "Expected Output:\n",
      "[]\n",
      "\n",
      "\n",
      "Actual Output:\n",
      "[]\n",
      "\n",
      "Execution Time:\n",
      "0.002 ms\n",
      "\n",
      "Test Result:\n",
      "\u001b[92mPASSED\u001b[0m\n",
      "\n",
      "\n",
      "\u001b[1mTEST CASE #8\u001b[0m\n",
      "\n",
      "Input:\n",
      "{'poly1': [2, 5, 3, 1, -1], 'poly2': [1, 2, 2, 3, 6]}\n",
      "\n",
      "Expected Output:\n",
      "[2, 9, 17, 23, 34, 39, 19, 3, -6]\n",
      "\n",
      "\n",
      "Actual Output:\n",
      "[2, 9, 17, 23, 34, 39, 19, 3, -6]\n",
      "\n",
      "Execution Time:\n",
      "0.055 ms\n",
      "\n",
      "Test Result:\n",
      "\u001b[92mPASSED\u001b[0m\n",
      "\n",
      "\n",
      "\u001b[1mSUMMARY\u001b[0m\n",
      "\n",
      "TOTAL: 9, \u001b[92mPASSED\u001b[0m: 9, \u001b[91mFAILED\u001b[0m: 0\n"
     ]
    }
   ],
   "source": [
    "results = evaluate_test_cases(multiply_optimized, tests)"
   ]
  },
  {
   "cell_type": "code",
   "execution_count": null,
   "id": "3c0ce790",
   "metadata": {},
   "outputs": [],
   "source": []
  },
  {
   "cell_type": "code",
   "execution_count": null,
   "id": "ccdc12b6",
   "metadata": {},
   "outputs": [],
   "source": []
  },
  {
   "cell_type": "code",
   "execution_count": null,
   "id": "165d807f",
   "metadata": {},
   "outputs": [],
   "source": []
  },
  {
   "cell_type": "code",
   "execution_count": 41,
   "id": "50085dac",
   "metadata": {},
   "outputs": [],
   "source": [
    "import jovian"
   ]
  },
  {
   "cell_type": "code",
   "execution_count": 42,
   "id": "ff228800",
   "metadata": {},
   "outputs": [
    {
     "data": {
      "application/javascript": [
       "window.require && require([\"base/js/namespace\"],function(Jupyter){Jupyter.notebook.save_checkpoint()})"
      ],
      "text/plain": [
       "<IPython.core.display.Javascript object>"
      ]
     },
     "metadata": {},
     "output_type": "display_data"
    },
    {
     "name": "stdout",
     "output_type": "stream",
     "text": [
      "[jovian] Updating notebook \"tanmay-wankhede/python-divide-and-conquer-assignment\" on https://jovian.ai\u001b[0m\n",
      "[jovian] Committed successfully! https://jovian.ai/tanmay-wankhede/python-divide-and-conquer-assignment\u001b[0m\n"
     ]
    },
    {
     "data": {
      "text/plain": [
       "'https://jovian.ai/tanmay-wankhede/python-divide-and-conquer-assignment'"
      ]
     },
     "execution_count": 42,
     "metadata": {},
     "output_type": "execute_result"
    }
   ],
   "source": [
    "jovian.commit()"
   ]
  },
  {
   "cell_type": "markdown",
   "id": "96c515de",
   "metadata": {},
   "source": [
    "## Make a Submission\n",
    "\n",
    "Congrats! You have now implemented hash tables from scratch. The rest of this assignment is optional.\n",
    "\n",
    "You can make a submission on this page: https://jovian.ai/learn/data-structures-and-algorithms-in-python/assignment/assignment-3-sorting-and-divide-conquer-practice\n",
    "\n",
    "Submit the link to your Jovian notebook (the output of the previous cell).\n",
    "You can also make a direct submission by executing the following cell:"
   ]
  },
  {
   "cell_type": "code",
   "execution_count": null,
   "id": "6af02abc",
   "metadata": {},
   "outputs": [
    {
     "data": {
      "application/javascript": [
       "window.require && require([\"base/js/namespace\"],function(Jupyter){Jupyter.notebook.save_checkpoint()})"
      ],
      "text/plain": [
       "<IPython.core.display.Javascript object>"
      ]
     },
     "metadata": {},
     "output_type": "display_data"
    }
   ],
   "source": [
    "jovian.submit(assignment=\"pythondsa-assignment3\")"
   ]
  },
  {
   "cell_type": "markdown",
   "id": "e5b47508",
   "metadata": {},
   "source": [
    "### (Optional) 9. Analyze the algorithm's complexity and identify inefficiencies, if any.\n",
    "\n",
    "Can you analyze the time and space complexity of this algorithm? \n",
    "\n",
    "Hint: See the tree of subproblems below ([source](https://myithelpcentral.blogspot.com/2015/09/o-logn-notation-explanation-for-binary.html)). Substitute the right values for `n` and `b` to determine the time complexity.\n",
    "\n",
    "![](https://i.imgur.com/JAmZrE5.png)"
   ]
  },
  {
   "cell_type": "code",
   "execution_count": null,
   "id": "f5ad722c",
   "metadata": {},
   "outputs": [],
   "source": [
    "import jovian"
   ]
  },
  {
   "cell_type": "code",
   "execution_count": null,
   "id": "63e21d4d",
   "metadata": {},
   "outputs": [],
   "source": [
    "jovian.commit()"
   ]
  }
 ],
 "metadata": {
  "language_info": {
   "codemirror_mode": {
    "name": "ipython",
    "version": 3
   },
   "file_extension": ".py",
   "mimetype": "text/x-python",
   "name": "python",
   "nbconvert_exporter": "python",
   "pygments_lexer": "ipython3",
   "version": "3.9.6"
  }
 },
 "nbformat": 4,
 "nbformat_minor": 5
}