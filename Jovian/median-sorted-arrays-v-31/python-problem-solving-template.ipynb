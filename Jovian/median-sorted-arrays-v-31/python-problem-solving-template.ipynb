{
 "cells": [
  {
   "cell_type": "markdown",
   "id": "9b3a3790",
   "metadata": {},
   "source": [
    "# Problem Solving Template (change the title)\n",
    "\n",
    "_To learn how to use this template, check out the course [\"Data Structures and Algorithms in Python\"](https://jovian.ai/learn/data-structures-and-algorithms-in-python)._\n",
    "\n",
    "\n"
   ]
  },
  {
   "cell_type": "markdown",
   "id": "1a6f6447",
   "metadata": {},
   "source": [
    "## How to run the code and save your work\n",
    "\n",
    "The recommended way to run this notebook is to click the \"Run\" button at the top of this page, and select \"Run on Binder\". This will run the notebook on [mybinder.org](https://mybinder.org), a free online service for running Jupyter notebooks. \n",
    "\n",
    "This tutorial is an executable [Jupyter notebook](https://jupyter.org). You can _run_ this tutorial and experiment with the code examples in a couple of ways: *using free online resources* (recommended) or *on your computer*.\n",
    "\n",
    "#### Option 1: Running using free online resources (1-click, recommended)\n",
    "\n",
    "The easiest way to start executing the code is to click the **Run** button at the top of this page and select **Run on Binder**. You can also select \"Run on Colab\" or \"Run on Kaggle\", but you'll need to create an account on [Google Colab](https://colab.research.google.com) or [Kaggle](https://kaggle.com) to use these platforms.\n",
    "\n",
    "\n",
    "#### Option 2: Running on your computer locally\n",
    "\n",
    "To run the code on your computer locally, you'll need to set up [Python](https://www.python.org), download the notebook and install the required libraries. We recommend using the [Conda](https://docs.conda.io/projects/conda/en/latest/user-guide/install/) distribution of Python. Click the **Run** button at the top of this page, select the **Run Locally** option, and follow the instructions.\n",
    "\n",
    "#### Saving your work\n",
    "\n",
    "Before staring the assignment, let's save a snapshot of the assignment to your [Jovian](https://jovian.ai) profile, so that you can access it later, and continue your work."
   ]
  },
  {
   "cell_type": "code",
   "execution_count": 1,
   "id": "340ab7c0",
   "metadata": {},
   "outputs": [],
   "source": [
    "project_name = \"median_sorted_arrays\" # give it an appropriate name"
   ]
  },
  {
   "cell_type": "code",
   "execution_count": 2,
   "id": "d8578e67",
   "metadata": {},
   "outputs": [],
   "source": [
    "!pip install jovian --upgrade --quiet"
   ]
  },
  {
   "cell_type": "code",
   "execution_count": 3,
   "id": "81c18117",
   "metadata": {},
   "outputs": [],
   "source": [
    "import jovian"
   ]
  },
  {
   "cell_type": "code",
   "execution_count": 4,
   "id": "5b7ab66a",
   "metadata": {},
   "outputs": [
    {
     "data": {
      "application/javascript": [
       "window.require && require([\"base/js/namespace\"],function(Jupyter){Jupyter.notebook.save_checkpoint()})"
      ],
      "text/plain": [
       "<IPython.core.display.Javascript object>"
      ]
     },
     "metadata": {},
     "output_type": "display_data"
    },
    {
     "name": "stdout",
     "output_type": "stream",
     "text": [
      "[jovian] Updating notebook \"tanmay-wankhede/median-sorted-arrays\" on https://jovian.ai\u001b[0m\n",
      "[jovian] Committed successfully! https://jovian.ai/tanmay-wankhede/median-sorted-arrays\u001b[0m\n"
     ]
    },
    {
     "data": {
      "text/plain": [
       "'https://jovian.ai/tanmay-wankhede/median-sorted-arrays'"
      ]
     },
     "execution_count": 4,
     "metadata": {},
     "output_type": "execute_result"
    }
   ],
   "source": [
    "jovian.commit(project=project_name)"
   ]
  },
  {
   "cell_type": "markdown",
   "id": "f182ffea",
   "metadata": {},
   "source": [
    "## Problem Statement\n",
    "\n",
    "The basic idea of this problem to find a median of two arrays. A median is an element that happens to lay in the middle of a sorted list of elements.\n",
    "\n",
    "It's easy to find a median when the number of elements in said list is odd, since there is only one element that lays in the middle (at position n/2). If the number of elements is even, then there's more than one middle element. In such case we consider median to be an average of elements at positions n/2-1 and n/2.\n",
    "\n",
    "Source: https://leetcode.com/problems/median-of-two-sorted-arrays/"
   ]
  },
  {
   "cell_type": "markdown",
   "id": "a56dd7a8",
   "metadata": {},
   "source": [
    "## The Method\n",
    "\n",
    "Here's the systematic strategy we'll apply for solving problems:\n",
    "\n",
    "1. State the problem clearly. Identify the input & output formats.\n",
    "2. Come up with some example inputs & outputs. Try to cover all edge cases.\n",
    "3. Come up with a correct solution for the problem. State it in plain English.\n",
    "4. Implement the solution and test it using example inputs. Fix bugs, if any.\n",
    "5. Analyze the algorithm's complexity and identify inefficiencies, if any.\n",
    "6. Apply the right technique to overcome the inefficiency. Repeat steps 3 to 6.\n",
    "\n",
    "This approach is explained in detail in [Lesson 1](https://jovian.ai/learn/data-structures-and-algorithms-in-python/lesson/lesson-1-binary-search-linked-lists-and-complexity) of the course. Let's apply this approach step-by-step."
   ]
  },
  {
   "cell_type": "markdown",
   "id": "e1ff0e6e",
   "metadata": {},
   "source": [
    "## Solution\n",
    "\n",
    "\n",
    "### 1. State the problem clearly. Identify the input & output formats.\n",
    "\n",
    "While this problem is stated clearly enough, it's always useful to try and express in your own words, in a way that makes it most clear for you. \n",
    "\n",
    "\n",
    "**Problem**\n",
    "\n",
    "> The problem is to find a median of two lists (sorted). There are 2 inputs: two lists of sizes m and n. The output is a single value, representing the median value of the merged lists\n",
    "<br/>\n",
    "\n",
    "\n",
    "**Input**\n",
    "\n",
    "1. `nums1` - a sorted list of numbers\n",
    "2. `nums2` - a sorted list of numbers\n",
    " \n",
    "\n",
    "(add more if required)\n",
    "\n",
    "\n",
    "**Output**\n",
    "\n",
    "1. median of list being a result of merging `nums1` and `nums2.`\n",
    "\n",
    "(add more if required)\n",
    "\n",
    "<br/>\n",
    "\n",
    "Based on the above, we can now create a signature of our function:"
   ]
  },
  {
   "cell_type": "code",
   "execution_count": null,
   "id": "1f4ab2d9",
   "metadata": {},
   "outputs": [],
   "source": [
    "# Create a function signature here. The body of the function can contain a single statement: pass"
   ]
  },
  {
   "cell_type": "markdown",
   "id": "d930c5e4",
   "metadata": {},
   "source": [
    "Save and upload your work before continuing."
   ]
  },
  {
   "cell_type": "code",
   "execution_count": 5,
   "id": "c44085aa",
   "metadata": {},
   "outputs": [],
   "source": [
    "import jovian"
   ]
  },
  {
   "cell_type": "code",
   "execution_count": null,
   "id": "91c69fc4",
   "metadata": {},
   "outputs": [],
   "source": [
    "jovian.commit()"
   ]
  },
  {
   "cell_type": "markdown",
   "id": "107c1480",
   "metadata": {},
   "source": [
    "### 2. Come up with some example inputs & outputs. Try to cover all edge cases.\n",
    "\n",
    "Our function should be able to handle any set of valid inputs we pass into it. Here's a list of some possible variations we might encounter:\n",
    "\n",
    "1. the lists contain the same number of elements,\n",
    "2. the lists contain different number of elements,\n",
    "3. one of the lists is empty,\n",
    "4. both lists are empty (should return None since there's no middle element)\n",
    "\n",
    "(add more if required)\n",
    "\n",
    "\n",
    "We'll express our test cases as dictionaries, to test them easily. Each dictionary will contain 2 keys: `input` (a dictionary itself containing one key for each argument to the function and `output` (the expected result from the function). "
   ]
  },
  {
   "cell_type": "code",
   "execution_count": 6,
   "id": "fd1bab23",
   "metadata": {},
   "outputs": [],
   "source": [
    "tests = []"
   ]
  },
  {
   "cell_type": "markdown",
   "id": "b0a5fb57",
   "metadata": {},
   "source": [
    "Create one test case for each of the scenarios listed above. We'll store our test cases in an array called `tests`."
   ]
  },
  {
   "cell_type": "code",
   "execution_count": 7,
   "id": "5da189b1",
   "metadata": {},
   "outputs": [],
   "source": [
    "tests.append({\n",
    "    'input': {\n",
    "        \"nums1\": [1, 2, 3],\n",
    "        \"nums2\": [4, 5, 6]\n",
    "    },\n",
    "    'output': 3.5\n",
    "})\n",
    "tests.append({\n",
    "    'input': {\n",
    "        \"nums1\": [3, 6, 8, 9, 10, 11],\n",
    "        \"nums2\": [3, 3, 5]\n",
    "    },\n",
    "    'output': 6\n",
    "})\n",
    "tests.append({\n",
    "    'input': {\n",
    "        \"nums1\": [5, 9, 14, 16],\n",
    "        \"nums2\": []\n",
    "    },\n",
    "    'output': 11.5\n",
    "})\n",
    "tests.append({\n",
    "    'input': {\n",
    "        \"nums1\": [],\n",
    "        \"nums2\": [3, 6, 7, 11, 12]\n",
    "    },\n",
    "    'output': 7\n",
    "})\n",
    "tests.append({\n",
    "    'input': {\n",
    "        \"nums1\": [],\n",
    "        \"nums2\": []\n",
    "    },\n",
    "    'output': None\n",
    "})"
   ]
  },
  {
   "cell_type": "code",
   "execution_count": null,
   "id": "4fcbc1d5",
   "metadata": {},
   "outputs": [],
   "source": [
    "# add more test cases"
   ]
  },
  {
   "cell_type": "code",
   "execution_count": null,
   "id": "d4264593",
   "metadata": {},
   "outputs": [],
   "source": []
  },
  {
   "cell_type": "markdown",
   "id": "ee340ed9",
   "metadata": {},
   "source": [
    "### 3. Come up with a correct solution for the problem. State it in plain English.\n",
    "\n",
    "Our first goal should always be to come up with a _correct_ solution to the problem, which may not necessarily be the most _efficient_ solution. Come with a correct solution and explain it in simple words below:\n",
    "\n",
    "Merging the two lists is not necessary, as we can actually use the method used in merge sort, to merge the list until we approach a middle element(s).\n",
    "\n",
    "1. Initialize two variables: `i` and `j`, setting their values to 0.\n",
    "2. Create a new empty list called merged.\n",
    "3. Calculate the lengths of `nums1` and `nums2` lists. Store the l`enghts` as m and n respectively.\n",
    "4. If `m` and `n` is equal to 0, then return None.\n",
    "5. If `m` or `n` is equal to 0, then the median lies only in one of the lists.\n",
    "\n",
    "   a. Return the median of non-empty list (using calculated position).\n",
    "   \n",
    "6. Calculate the stop_position as (`m`+`n`) / 2 + 1\n",
    "7. Calculate the is_odd flag as the result of (`m` + `n`) % 2.\n",
    "8. Compare elements at `nums1[i]` and `nums2[j]`.\n",
    "\n",
    "   a. If `i` is greater or equal to `m` then add `nums2[j]` and increment `j`.\n",
    "   \n",
    "   b. Else if `j` is greater or equal to` n` then add `nums1[i]` to merged and increment `i`,\n",
    "  \n",
    "   c. Else if `nums1[i]` is smaller than nums2[j] then add `nums1[i]` to merged and increment `i`.\n",
    "   \n",
    "   d. Otherwise add `nums2[j]` to merged and increment `j`.\n",
    "   \n",
    "   \n",
    "9. Repeat step 7 until the `i`+`j` is equal to (`m`+`n`)/2.\n",
    "10. The median is the last element (or average of two last elements if `m` + `n` is even) of the merged list.\n",
    "\n",
    "I'm also defining a helper function list_median that computes a median of a single list. This function is used mainly if one of the lists is empty.\n",
    "It's pretty straightforward to compute middle element (or elements) given a single list. If we know the length, then we can just calculate the position(s) of middle element(s).\n",
    "To consider the case when both lists are empty, I added an additional condition inside this function to take care of that.\n",
    "\n",
    "\n",
    "Let's save and upload our work before continuing.\n",
    "\n",
    "\n"
   ]
  },
  {
   "cell_type": "code",
   "execution_count": null,
   "id": "312f42e6",
   "metadata": {},
   "outputs": [],
   "source": [
    "jovian.commit()"
   ]
  },
  {
   "cell_type": "markdown",
   "id": "381be070",
   "metadata": {},
   "source": [
    "###  4. Implement the solution and test it using example inputs. Fix bugs, if any."
   ]
  },
  {
   "cell_type": "code",
   "execution_count": 8,
   "id": "4ef7c47c",
   "metadata": {},
   "outputs": [],
   "source": [
    "def list_median(nums):\n",
    "        n = len(nums)\n",
    "        if n == 0:\n",
    "            return None\n",
    "        is_odd = n % 2\n",
    "        if is_odd:\n",
    "            return nums[n//2]\n",
    "        else:\n",
    "            return (nums[n//2] + nums[n//2 - 1])/2\n",
    "def median_basic(nums1: list, nums2: list) -> float:  \n",
    "    i, j = 0, 0\n",
    "    merged = []\n",
    "    m, n = len(nums1), len(nums2)\n",
    "    if m == 0: # the first list is empty, so the median is in the second one\n",
    "        return list_median(nums2)\n",
    "    if n == 0:\n",
    "        return list_median(nums1)\n",
    "        \n",
    "    is_odd = (m + n) % 2\n",
    "    stop_position = (m + n)//2 + 1\n",
    "    \n",
    "    while (i+j) != stop_position:\n",
    "        if i >= m:\n",
    "            merged.append(nums2[j])\n",
    "            j += 1\n",
    "        elif j >= n:\n",
    "            merged.append(nums1[i])\n",
    "            i += 1\n",
    "        elif nums1[i] < nums2[j]:\n",
    "            merged.append(nums1[i])\n",
    "            i += 1\n",
    "        else:\n",
    "            merged.append(nums2[j])\n",
    "            j += 1\n",
    "    if is_odd:\n",
    "        return merged[-1]\n",
    "    else:\n",
    "        return (merged[-1] + merged[-2])/2\n"
   ]
  },
  {
   "cell_type": "code",
   "execution_count": null,
   "id": "af66aaf1",
   "metadata": {},
   "outputs": [],
   "source": []
  },
  {
   "cell_type": "markdown",
   "id": "d39772bf",
   "metadata": {},
   "source": [
    "We can test the function by passing the input to it directly or by using the `evaluate_test_case` function from `jovian`."
   ]
  },
  {
   "cell_type": "code",
   "execution_count": 9,
   "id": "9c314be0",
   "metadata": {},
   "outputs": [],
   "source": [
    "from jovian.pythondsa import evaluate_test_cases"
   ]
  },
  {
   "cell_type": "code",
   "execution_count": 10,
   "id": "3111a174",
   "metadata": {},
   "outputs": [
    {
     "name": "stdout",
     "output_type": "stream",
     "text": [
      "\n",
      "\u001b[1mSUMMARY\u001b[0m\n",
      "\n",
      "TOTAL: 5, \u001b[92mPASSED\u001b[0m: 5, \u001b[91mFAILED\u001b[0m: 0\n"
     ]
    }
   ],
   "source": [
    "evaluate_test_cases(median_basic, tests, error_only=True);"
   ]
  },
  {
   "cell_type": "markdown",
   "id": "f8817cf9",
   "metadata": {},
   "source": [
    "Evaluate your function against all the test cases together using the `evaluate_test_cases` (plural) function from `jovian`."
   ]
  },
  {
   "cell_type": "markdown",
   "id": "7b52efa0",
   "metadata": {},
   "source": [
    "Verify that all the test cases were evaluated. We expect them all to fail, since we haven't implemented the function yet.\n",
    "\n",
    "Let's save our work before continuing."
   ]
  },
  {
   "cell_type": "code",
   "execution_count": null,
   "id": "4b6aa32b",
   "metadata": {},
   "outputs": [],
   "source": [
    "jovian.commit()"
   ]
  },
  {
   "cell_type": "code",
   "execution_count": null,
   "id": "a64b2ccd",
   "metadata": {},
   "outputs": [],
   "source": []
  },
  {
   "cell_type": "markdown",
   "id": "d930094c",
   "metadata": {},
   "source": [
    "### 5. Analyze the algorithm's complexity and identify inefficiencies, if any."
   ]
  },
  {
   "cell_type": "code",
   "execution_count": null,
   "id": "56ea3427",
   "metadata": {},
   "outputs": [],
   "source": []
  },
  {
   "cell_type": "code",
   "execution_count": null,
   "id": "4a7a16c1",
   "metadata": {},
   "outputs": [],
   "source": []
  },
  {
   "cell_type": "code",
   "execution_count": null,
   "id": "4aceaaf7",
   "metadata": {},
   "outputs": [],
   "source": []
  },
  {
   "cell_type": "code",
   "execution_count": null,
   "id": "0c80c82c",
   "metadata": {},
   "outputs": [],
   "source": [
    "jovian.commit()"
   ]
  },
  {
   "cell_type": "markdown",
   "id": "9aaadde7",
   "metadata": {},
   "source": [
    "### 6. Apply the right technique to overcome the inefficiency. Repeat steps 3 to 6.\n",
    "\n"
   ]
  },
  {
   "cell_type": "markdown",
   "id": "4492fc5f",
   "metadata": {},
   "source": [
    "We don't have to do the actual merging to find the median.\n",
    "\n",
    "We start with two lists: `nums1` and `nums2`, and calculate their lengths: `m` and `n` respectively.\n",
    "\n",
    "We know that the merged list would have `m` + `n` elements in total.\n",
    "\n",
    "The order of elements in merged list is unknown at first. But we know that the median divides such list in half: to the left, all elements are smaller or equal to the median, and to the right all elements are bigger or equal to the median.\n",
    "\n",
    "If we would merge the lists, some elements from `nums1` and `nums2` would go first because they're smaller or equal to median, followed by elements that are larger or equal to median. So we can divide the lists into sublists that represent the elements that are either to the left of the median or to the right. Let's call those sublists `nums1_left`, `nums2_left`, `nums1_right` and `nums2_right`.<br/>\n",
    "Since the median splits the merged list in half, we know that the summed up lengths of left parts differ by 0 or 1 (depending on the fact that `m` + `n` can be odd or even) from the summed up lengths of right parts.\n",
    "\n",
    "We'll use binary search to look for the positions that split the `nums1` and `nums2` lists into their left and right parts, so that every element in the left parts is smaller or equal to every element in right parts. We look mainly for two indices: `pos_nums1` and `pos_nums2` (position where we split the list). Summing them up gives us a position that would be in the middle of a merged list `(m + n) // 2`.\n",
    "\n",
    "Because we want to keep the lengths of both parts so that they resemble a division made by a median, we look only for `pos_nums1` position, while calculating the `pos_nums2` from the knowledge about the length of resulting array. So `pos_nums2 = (m + n + 1) // 2 - pos_nums1`. We add 1 because we want to make sure that the left side is always the one that has an extra element.\n",
    "\n",
    "Knowing `pos_nums1` and `pos_nums2` we know elements that would be to the left and right of the median. We define them like this:\n",
    "- `eL1 = nums1[pos_nums1 - 1]` if `pos_nums1` > 0 else we just use a global minimum (because there's no element to the left of 0)\n",
    "- `eR1 = nums1[pos_nums1]` if `pos_nums1` < `m` else we just use a global maximum (because there's no element to the right of `m`\n",
    "- `eL2 = nums2[pos_nums2 - 1]` if `pos_nums2` > 0 else we just use a global minimum (because there's no element to the left of 0)\n",
    "- `eR2 = nums2[pos_nums2]`if `pos_nums2` < `n` else we just use a global maximum (because there's no element to the right of `n`\n",
    "\n",
    "To keep the \"left\" parts smaller or equal to median, and \"right\" parts bigger or equal to median, we have to make sure that:\n",
    "- `eL1 <= eR1` - this condition is always fulfilled as we split the initially sorted list\n",
    "- `eL2 <= eR2` - same as above\n",
    "- `eL1 <= eR2` - this condition makes sures that both left parts (resulting from splitting `nums1` and `nums2`) are to the left of the median\n",
    "- `eL2 <= eR1` - same as above\n",
    "\n",
    "First two conditions are always true because the lists are sorted. The last two define moment where we stop binary searching the positions, because we've already know partitioning of both list, such that all elements on the left are smaller or equal to all elements on the right.\n",
    "\n",
    "To find the median after finding the positions, we use defined earlier elements `eL1`, `eL2`, `eR1` and `eR2`.\n",
    "If `m` + `n` is odd, then the left part is one element longer. We take median as max of `eL1` and `eL2`.\n",
    "\n",
    "The case differs if it's even, because there are two middle elements. But it's easy to find them. We again look for maximum value of `eL1` and `eL2` - this is because the larger of those elements would be closer to the median after actual merging. We also calculate minimum value of `eR1` and `eR2` - again, minimum of those values would be closer to the median. After finding them, we just calculate their average:\n",
    "`(max(eL1, eL2) + min(eR1, eR2))/2`.\n",
    "\n",
    "This approach has `O(log(min(m, n))` complexity, because we binary search for the position of the shorter of lists only."
   ]
  },
  {
   "cell_type": "code",
   "execution_count": null,
   "id": "6ceaa745",
   "metadata": {},
   "outputs": [],
   "source": []
  },
  {
   "cell_type": "code",
   "execution_count": null,
   "id": "496fab51",
   "metadata": {},
   "outputs": [],
   "source": [
    "jovian.commit()"
   ]
  },
  {
   "cell_type": "markdown",
   "id": "713f0174",
   "metadata": {},
   "source": []
  },
  {
   "cell_type": "markdown",
   "id": "819ad3cc",
   "metadata": {},
   "source": [
    "### 7. Come up with a correct solution for the problem. State it in plain English.\n",
    "\n",
    "Come with the optimized correct solution and explain it in simple words below:\n",
    "\n",
    "1. Calculate `m` and `n` as lengths of `nums1` and `nums2`.\n",
    "1. If `m` > `n` then the first list is longer than the second one. We want to avoid that, so we run the whole function again, swapping the lists.\n",
    "1. If `m` is less or equal to 2, then use basic version.\n",
    "1. Calculate `is_odd` as `(m + n) % 2`. This will be used later to decide how to calculate the median.\n",
    "1. Find `global_min` and `global_max` of both lists.\n",
    "1. Set `start` and `end` variables to 0 and `m` respectively.\n",
    "1. While `start` is less or equal to `end` then:\n",
    "    1. Calculate `pos_nums1` (as `start + (end - start) // 2)`) and `pos_nums2` (as `(m + n + 1)//2 - pos_nums1`).\n",
    "    1. Calculate `eL1` and `eL2` (either global minimum or `nums1[pos_nums1 - 1]` and `nums2[pos_nums2 - 1]` respectively).\n",
    "    1. alculate `eR1` and `eR2` (either global maximum or `nums1[pos_nums1]` and `nums2[pos_nums2]` respectively).\n",
    "    1. If `eL1` is smaller or equal to `eR1` and `eL2` is smaller or equal to `eR2`, then we found the partition and we can calculate the median.\n",
    "        1. If `is_odd` then calculate the median as `max(eL1, eL2)`.\n",
    "        1. Otherwise calculate the median as `(max(eL1, eL2) + min(eR1, eR2)) / 2`.\n",
    "    1. Else if `eL1` is bigger than `eR2` then set `end` to `pos_nums1 - 1`.\n",
    "    1. Else set `start` to `pos_nums1` + 1."
   ]
  },
  {
   "cell_type": "code",
   "execution_count": null,
   "id": "7157406d",
   "metadata": {},
   "outputs": [],
   "source": [
    "jovian.commit()"
   ]
  },
  {
   "cell_type": "code",
   "execution_count": null,
   "id": "9986ccd7",
   "metadata": {},
   "outputs": [],
   "source": []
  },
  {
   "cell_type": "code",
   "execution_count": null,
   "id": "329fb8e1",
   "metadata": {},
   "outputs": [],
   "source": []
  },
  {
   "cell_type": "markdown",
   "id": "c3477a30",
   "metadata": {},
   "source": [
    "### 8. Implement the solution and test it using example inputs. Fix bugs, if any."
   ]
  },
  {
   "cell_type": "code",
   "execution_count": 11,
   "id": "165faafb",
   "metadata": {},
   "outputs": [],
   "source": [
    "def median_improved(nums1: list, nums2: list) -> float:\n",
    "    m, n = len(nums1), len(nums2)\n",
    "    if m > n:\n",
    "        return median_improved(nums2, nums1)\n",
    "    if m <= 2:\n",
    "        return median_basic(nums1, nums2)\n",
    "    \n",
    "    is_odd = (m + n) % 2\n",
    "    \n",
    "    global_min = min(nums1 + nums2)\n",
    "    global_max = max(nums1 + nums2)\n",
    "    \n",
    "    start = 0\n",
    "    end = m\n",
    "    while start <= end:\n",
    "        pos_nums1 = start + (end - start) // 2\n",
    "        pos_nums2 = (m + n + 1)//2 - pos_nums1\n",
    "        \n",
    "        eL1 = global_min if pos_nums1 == 0 else nums1[pos_nums1 - 1]\n",
    "        eR1 = global_max if pos_nums1 == m else nums1[pos_nums1]\n",
    "        \n",
    "        eL2 = global_min if pos_nums2 == 0 else nums2[pos_nums2 - 1]\n",
    "        eR2 = global_max if pos_nums2 == n else nums2[pos_nums2]\n",
    "        \n",
    "        if (eL1 <= eR2) and (eL2 <= eR1):\n",
    "            if is_odd:\n",
    "                return max(eL1, eL2)\n",
    "            else:\n",
    "                return (max(eL1, eL2) + min(eR1, eR2)) / 2\n",
    "        elif eL1 > eR2:\n",
    "            end = pos_nums1 - 1\n",
    "        else:\n",
    "            start = pos_nums1 + 1"
   ]
  },
  {
   "cell_type": "code",
   "execution_count": 14,
   "id": "f75737aa",
   "metadata": {},
   "outputs": [],
   "source": [
    "from jovian.pythondsa import evaluate_test_cases"
   ]
  },
  {
   "cell_type": "code",
   "execution_count": 17,
   "id": "75868912",
   "metadata": {},
   "outputs": [
    {
     "name": "stdout",
     "output_type": "stream",
     "text": [
      "\n",
      "\u001b[1mSUMMARY\u001b[0m\n",
      "\n",
      "TOTAL: 5, \u001b[92mPASSED\u001b[0m: 5, \u001b[91mFAILED\u001b[0m: 0\n"
     ]
    }
   ],
   "source": [
    "evaluate_test_cases(median_improved, tests, error_only=True);"
   ]
  },
  {
   "cell_type": "code",
   "execution_count": null,
   "id": "052eeb97",
   "metadata": {},
   "outputs": [],
   "source": []
  },
  {
   "cell_type": "code",
   "execution_count": null,
   "id": "c4ea1de0",
   "metadata": {},
   "outputs": [],
   "source": []
  },
  {
   "cell_type": "code",
   "execution_count": null,
   "id": "d6789ecf",
   "metadata": {},
   "outputs": [],
   "source": []
  },
  {
   "cell_type": "code",
   "execution_count": null,
   "id": "f7c35348",
   "metadata": {},
   "outputs": [],
   "source": []
  },
  {
   "cell_type": "code",
   "execution_count": null,
   "id": "5f13922f",
   "metadata": {},
   "outputs": [],
   "source": []
  },
  {
   "cell_type": "markdown",
   "id": "27672356",
   "metadata": {},
   "source": [
    "If you found the problem on an external platform, you can make a submission to test your solution.\n",
    "\n",
    "Share your approach and start a discussion on the Jovian forum: https://jovian.ai/forum/c/data-structures-and-algorithms-in-python/78"
   ]
  },
  {
   "cell_type": "code",
   "execution_count": null,
   "id": "6925d475",
   "metadata": {},
   "outputs": [
    {
     "data": {
      "application/javascript": [
       "window.require && require([\"base/js/namespace\"],function(Jupyter){Jupyter.notebook.save_checkpoint()})"
      ],
      "text/plain": [
       "<IPython.core.display.Javascript object>"
      ]
     },
     "metadata": {},
     "output_type": "display_data"
    }
   ],
   "source": [
    "jovian.commit()"
   ]
  },
  {
   "cell_type": "code",
   "execution_count": null,
   "id": "d489767b",
   "metadata": {},
   "outputs": [],
   "source": []
  }
 ],
 "metadata": {
  "celltoolbar": "Raw Cell Format",
  "language_info": {
   "codemirror_mode": {
    "name": "ipython",
    "version": 3
   },
   "file_extension": ".py",
   "mimetype": "text/x-python",
   "name": "python",
   "nbconvert_exporter": "python",
   "pygments_lexer": "ipython3",
   "version": "3.9.6"
  }
 },
 "nbformat": 4,
 "nbformat_minor": 5
}